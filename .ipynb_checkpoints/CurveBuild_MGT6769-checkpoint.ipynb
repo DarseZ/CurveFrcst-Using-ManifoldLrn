{
 "cells": [
  {
   "cell_type": "markdown",
   "metadata": {},
   "source": [
    "MGT6769 HW3 Part B"
   ]
  },
  {
   "cell_type": "code",
   "execution_count": 85,
   "metadata": {},
   "outputs": [],
   "source": [
    "import pandas as pd\n",
    "import numpy as np\n",
    "import matplotlib.pyplot as plt\n",
    "from scipy.optimize import least_squares, root"
   ]
  },
  {
   "cell_type": "code",
   "execution_count": 4,
   "metadata": {},
   "outputs": [],
   "source": [
    "# nelson siegel swenson model: take four curve shape parameters and two hump date parameters, for each given tenor T\n",
    "def NSS_zero_cstrct(T, beta0,beta1,beta2,beta3,tau1,tau2):\n",
    "    # zero rate\n",
    "    if T < 1/365: T = 1/365\n",
    "    exp_tt1 = exp(-T/tau1)\n",
    "    exp_tt2 = exp(-T/tau2)\n",
    "    factor1 = (1 - exp_tt1) / (T / tau1)\n",
    "    factor2 = factor1 - exp_tt1\n",
    "    factor3 = (1 - exp_tt2) / (T / tau2) - exp_tt2\n",
    "    res = beta0 + beta1*factor1 + beta2*factor2 + beta3*factor3\n",
    "    return res"
   ]
  },
  {
   "cell_type": "code",
   "execution_count": 24,
   "metadata": {},
   "outputs": [
    {
     "data": {
      "text/html": [
       "<div>\n",
       "<style scoped>\n",
       "    .dataframe tbody tr th:only-of-type {\n",
       "        vertical-align: middle;\n",
       "    }\n",
       "\n",
       "    .dataframe tbody tr th {\n",
       "        vertical-align: top;\n",
       "    }\n",
       "\n",
       "    .dataframe thead th {\n",
       "        text-align: right;\n",
       "    }\n",
       "</style>\n",
       "<table border=\"1\" class=\"dataframe\">\n",
       "  <thead>\n",
       "    <tr style=\"text-align: right;\">\n",
       "      <th></th>\n",
       "      <th>BETA0</th>\n",
       "      <th>BETA1</th>\n",
       "      <th>BETA2</th>\n",
       "      <th>BETA3</th>\n",
       "      <th>TAU1</th>\n",
       "      <th>TAU2</th>\n",
       "    </tr>\n",
       "    <tr>\n",
       "      <th>Date</th>\n",
       "      <th></th>\n",
       "      <th></th>\n",
       "      <th></th>\n",
       "      <th></th>\n",
       "      <th></th>\n",
       "      <th></th>\n",
       "    </tr>\n",
       "  </thead>\n",
       "  <tbody>\n",
       "    <tr>\n",
       "      <th>1961-06-14</th>\n",
       "      <td>3.917606</td>\n",
       "      <td>-1.277955</td>\n",
       "      <td>-1.949397</td>\n",
       "      <td>0.000000</td>\n",
       "      <td>0.339218</td>\n",
       "      <td>-999.990000</td>\n",
       "    </tr>\n",
       "    <tr>\n",
       "      <th>1961-06-15</th>\n",
       "      <td>3.978498</td>\n",
       "      <td>-1.257404</td>\n",
       "      <td>-2.247617</td>\n",
       "      <td>0.000000</td>\n",
       "      <td>0.325775</td>\n",
       "      <td>-999.990000</td>\n",
       "    </tr>\n",
       "    <tr>\n",
       "      <th>1961-06-16</th>\n",
       "      <td>3.984350</td>\n",
       "      <td>-1.429538</td>\n",
       "      <td>-1.885024</td>\n",
       "      <td>0.000000</td>\n",
       "      <td>0.348817</td>\n",
       "      <td>-999.990000</td>\n",
       "    </tr>\n",
       "    <tr>\n",
       "      <th>1961-06-19</th>\n",
       "      <td>4.004379</td>\n",
       "      <td>-0.723311</td>\n",
       "      <td>-3.310743</td>\n",
       "      <td>0.000000</td>\n",
       "      <td>0.282087</td>\n",
       "      <td>-999.990000</td>\n",
       "    </tr>\n",
       "    <tr>\n",
       "      <th>1961-06-20</th>\n",
       "      <td>3.985789</td>\n",
       "      <td>-0.900432</td>\n",
       "      <td>-2.844809</td>\n",
       "      <td>0.000000</td>\n",
       "      <td>0.310316</td>\n",
       "      <td>-999.990000</td>\n",
       "    </tr>\n",
       "    <tr>\n",
       "      <th>...</th>\n",
       "      <td>...</td>\n",
       "      <td>...</td>\n",
       "      <td>...</td>\n",
       "      <td>...</td>\n",
       "      <td>...</td>\n",
       "      <td>...</td>\n",
       "    </tr>\n",
       "    <tr>\n",
       "      <th>2021-03-15</th>\n",
       "      <td>2.911025</td>\n",
       "      <td>-2.663140</td>\n",
       "      <td>-141.404857</td>\n",
       "      <td>138.071667</td>\n",
       "      <td>2.370744</td>\n",
       "      <td>2.388815</td>\n",
       "    </tr>\n",
       "    <tr>\n",
       "      <th>2021-03-16</th>\n",
       "      <td>2.937549</td>\n",
       "      <td>-2.694755</td>\n",
       "      <td>-123.135938</td>\n",
       "      <td>119.804611</td>\n",
       "      <td>2.423192</td>\n",
       "      <td>2.445306</td>\n",
       "    </tr>\n",
       "    <tr>\n",
       "      <th>2021-03-17</th>\n",
       "      <td>4.580133</td>\n",
       "      <td>-4.309836</td>\n",
       "      <td>-5.558469</td>\n",
       "      <td>-4.297111</td>\n",
       "      <td>2.208964</td>\n",
       "      <td>21.082222</td>\n",
       "    </tr>\n",
       "    <tr>\n",
       "      <th>2021-03-18</th>\n",
       "      <td>5.726447</td>\n",
       "      <td>-5.466569</td>\n",
       "      <td>-6.339108</td>\n",
       "      <td>-7.513431</td>\n",
       "      <td>2.248462</td>\n",
       "      <td>19.957728</td>\n",
       "    </tr>\n",
       "    <tr>\n",
       "      <th>2021-03-19</th>\n",
       "      <td>5.922383</td>\n",
       "      <td>-5.638647</td>\n",
       "      <td>-6.582566</td>\n",
       "      <td>-8.128514</td>\n",
       "      <td>2.173055</td>\n",
       "      <td>19.186194</td>\n",
       "    </tr>\n",
       "  </tbody>\n",
       "</table>\n",
       "<p>15593 rows × 6 columns</p>\n",
       "</div>"
      ],
      "text/plain": [
       "               BETA0     BETA1       BETA2       BETA3      TAU1        TAU2\n",
       "Date                                                                        \n",
       "1961-06-14  3.917606 -1.277955   -1.949397    0.000000  0.339218 -999.990000\n",
       "1961-06-15  3.978498 -1.257404   -2.247617    0.000000  0.325775 -999.990000\n",
       "1961-06-16  3.984350 -1.429538   -1.885024    0.000000  0.348817 -999.990000\n",
       "1961-06-19  4.004379 -0.723311   -3.310743    0.000000  0.282087 -999.990000\n",
       "1961-06-20  3.985789 -0.900432   -2.844809    0.000000  0.310316 -999.990000\n",
       "...              ...       ...         ...         ...       ...         ...\n",
       "2021-03-15  2.911025 -2.663140 -141.404857  138.071667  2.370744    2.388815\n",
       "2021-03-16  2.937549 -2.694755 -123.135938  119.804611  2.423192    2.445306\n",
       "2021-03-17  4.580133 -4.309836   -5.558469   -4.297111  2.208964   21.082222\n",
       "2021-03-18  5.726447 -5.466569   -6.339108   -7.513431  2.248462   19.957728\n",
       "2021-03-19  5.922383 -5.638647   -6.582566   -8.128514  2.173055   19.186194\n",
       "\n",
       "[15593 rows x 6 columns]"
      ]
     },
     "execution_count": 24,
     "metadata": {},
     "output_type": "execute_result"
    }
   ],
   "source": [
    "Treasury_data = pd.read_csv(r'Data\\feds200628_till210319.csv', index_col = 'Date', usecols = ['Date','BETA0','BETA1','BETA2','BETA3','TAU1','TAU2'], skiprows=9)\n",
    "Treasury_data"
   ]
  },
  {
   "cell_type": "code",
   "execution_count": 26,
   "metadata": {},
   "outputs": [
    {
     "data": {
      "text/html": [
       "<div>\n",
       "<style scoped>\n",
       "    .dataframe tbody tr th:only-of-type {\n",
       "        vertical-align: middle;\n",
       "    }\n",
       "\n",
       "    .dataframe tbody tr th {\n",
       "        vertical-align: top;\n",
       "    }\n",
       "\n",
       "    .dataframe thead th {\n",
       "        text-align: right;\n",
       "    }\n",
       "</style>\n",
       "<table border=\"1\" class=\"dataframe\">\n",
       "  <thead>\n",
       "    <tr style=\"text-align: right;\">\n",
       "      <th></th>\n",
       "      <th>BETA0</th>\n",
       "      <th>BETA1</th>\n",
       "      <th>BETA2</th>\n",
       "      <th>BETA3</th>\n",
       "      <th>TAU1</th>\n",
       "      <th>TAU2</th>\n",
       "    </tr>\n",
       "    <tr>\n",
       "      <th>Date</th>\n",
       "      <th></th>\n",
       "      <th></th>\n",
       "      <th></th>\n",
       "      <th></th>\n",
       "      <th></th>\n",
       "      <th></th>\n",
       "    </tr>\n",
       "  </thead>\n",
       "  <tbody>\n",
       "    <tr>\n",
       "      <th>2010-02-05</th>\n",
       "      <td>4.666573</td>\n",
       "      <td>-4.578996</td>\n",
       "      <td>-155.479342</td>\n",
       "      <td>155.827299</td>\n",
       "      <td>3.217715</td>\n",
       "      <td>3.314107</td>\n",
       "    </tr>\n",
       "  </tbody>\n",
       "</table>\n",
       "</div>"
      ],
      "text/plain": [
       "               BETA0     BETA1       BETA2       BETA3      TAU1      TAU2\n",
       "Date                                                                      \n",
       "2010-02-05  4.666573 -4.578996 -155.479342  155.827299  3.217715  3.314107"
      ]
     },
     "execution_count": 26,
     "metadata": {},
     "output_type": "execute_result"
    }
   ],
   "source": [
    "Treasury_data = Treasury_data.loc['2010-02-05':'2010-02-06'] # Today is Feb 5, 2010 \n",
    "Treasury_data"
   ]
  },
  {
   "cell_type": "markdown",
   "metadata": {},
   "source": [
    "## consider a roller coaster SWAP: maturity = 10yr; floating leg index is 6m T-bill, notional varies: summer  = 3 * winter; fixed leg is paid annually, notional is 50million."
   ]
  },
  {
   "cell_type": "markdown",
   "metadata": {},
   "source": [
    "### assume float leg payment is semiannually"
   ]
  },
  {
   "cell_type": "code",
   "execution_count": 56,
   "metadata": {},
   "outputs": [
    {
     "data": {
      "text/plain": [
       "[0,\n",
       " 6,\n",
       " 12,\n",
       " 18,\n",
       " 24,\n",
       " 30,\n",
       " 36,\n",
       " 42,\n",
       " 48,\n",
       " 54,\n",
       " 60,\n",
       " 66,\n",
       " 72,\n",
       " 78,\n",
       " 84,\n",
       " 90,\n",
       " 96,\n",
       " 102,\n",
       " 108,\n",
       " 114,\n",
       " 120]"
      ]
     },
     "execution_count": 56,
     "metadata": {},
     "output_type": "execute_result"
    }
   ],
   "source": [
    "tenors = [x for x in range(0,121,6)]\n",
    "tenors"
   ]
  },
  {
   "cell_type": "code",
   "execution_count": 65,
   "metadata": {},
   "outputs": [],
   "source": [
    "Treasury_zero = pd.DataFrame(index = Treasury_data.index, columns = tenors)"
   ]
  },
  {
   "cell_type": "code",
   "execution_count": 66,
   "metadata": {},
   "outputs": [],
   "source": [
    "for col in Treasury_zero.columns:\n",
    "    Treasury_zero[col]=Treasury_data.apply(lambda x: NSS_zero_cstrct(col/12,x['BETA0'],x['BETA1'],x['BETA2'],x['BETA3'],x['TAU1'],x['TAU2']), axis=1)"
   ]
  },
  {
   "cell_type": "code",
   "execution_count": 67,
   "metadata": {},
   "outputs": [
    {
     "data": {
      "text/plain": [
       "array([[0.00087747, 0.0016389 , 0.00313615, 0.00514265, 0.00748265,\n",
       "        0.0100201 , 0.01265092, 0.01529664, 0.01789924, 0.02041693,\n",
       "        0.02282067, 0.02509143, 0.02721791, 0.02919472, 0.03102096,\n",
       "        0.03269902, 0.03423366, 0.0356313 , 0.03689947, 0.03804633,\n",
       "        0.03908034]])"
      ]
     },
     "execution_count": 67,
     "metadata": {},
     "output_type": "execute_result"
    }
   ],
   "source": [
    "Treasury_zero_ary = np.array(Treasury_zero)\n",
    "Treasury_zero_ary /= 100\n",
    "Treasury_zero_ary"
   ]
  },
  {
   "cell_type": "code",
   "execution_count": 68,
   "metadata": {},
   "outputs": [
    {
     "data": {
      "text/plain": [
       "(1, 20)"
      ]
     },
     "execution_count": 68,
     "metadata": {},
     "output_type": "execute_result"
    }
   ],
   "source": [
    "Treasury_fwd_ary = ((np.array(tenors[1:])/12) * Treasury_zero_ary[:,1:] - (np.array(tenors[:-1])/12) * Treasury_zero_ary[:,:-1])/((tenors[1]-tenors[0])/12)\n",
    "Treasury_fwd_ary.shape # starting from 0 month to 114month"
   ]
  },
  {
   "cell_type": "code",
   "execution_count": 113,
   "metadata": {},
   "outputs": [],
   "source": [
    "# float leg notional, starting from 6 month to 120month\n",
    "# set the summer notional to be x\n",
    "def fun_swap_value(x):\n",
    "    float_notional = [1, 1/3] * 10\n",
    "    float_NPV_ary = x*np.array(float_notional).reshape(1,-1) * Treasury_fwd_ary * np.exp(-Treasury_zero_ary[:,1:]*np.arange(0.5,10.1,0.5))\n",
    "    #print(float_NPV_ary.sum())\n",
    "    \n",
    "    \n",
    "    # fix leg payment. suppose swap rate is 5%.\n",
    "    fix_NPV_ary = 50 * 0.05 * np.exp(-Treasury_zero_ary[:,2::2]*np.arange(1,10.1,1))\n",
    "    #print(fix_NPV_ary.sum())\n",
    "    return float_NPV_ary.sum() - fix_NPV_ary.sum() \n",
    "\n"
   ]
  },
  {
   "cell_type": "code",
   "execution_count": 114,
   "metadata": {},
   "outputs": [
    {
     "data": {
      "text/plain": [
       " active_mask: array([0.])\n",
       "        cost: 5.1240602720201756e-18\n",
       "         fun: array([3.20126858e-09])\n",
       "        grad: array([1.34392074e-09])\n",
       "         jac: array([[0.4198088]])\n",
       "     message: '`gtol` termination condition is satisfied.'\n",
       "        nfev: 2\n",
       "        njev: 2\n",
       "  optimality: 1.3439207351400534e-09\n",
       "      status: 1\n",
       "     success: True\n",
       "           x: array([51.07295447])"
      ]
     },
     "execution_count": 114,
     "metadata": {},
     "output_type": "execute_result"
    }
   ],
   "source": [
    "res = least_squares(fun_swap_value, 50)\n",
    "res"
   ]
  },
  {
   "cell_type": "code",
   "execution_count": 115,
   "metadata": {},
   "outputs": [
    {
     "data": {
      "text/plain": [
       "    fjac: array([[-1.]])\n",
       "     fun: 3.552713678800501e-15\n",
       " message: 'The solution converged.'\n",
       "    nfev: 4\n",
       "     qtf: array([-3.20224558e-09])\n",
       "       r: array([-0.41980882])\n",
       "  status: 1\n",
       " success: True\n",
       "       x: array([51.07295446])"
      ]
     },
     "execution_count": 115,
     "metadata": {},
     "output_type": "execute_result"
    }
   ],
   "source": [
    "sol = root(fun_swap_value, 50)\n",
    "sol"
   ]
  },
  {
   "cell_type": "markdown",
   "metadata": {},
   "source": [
    "## answer to partb-1a: 51.072954 million"
   ]
  },
  {
   "cell_type": "code",
   "execution_count": 116,
   "metadata": {},
   "outputs": [],
   "source": [
    "# assume the summer notional is 25 million and swap is priced fairly\n",
    "# set the swap rate to be x\n",
    "def fun_swap_value_b(x):\n",
    "    float_notional = [1, 1/3] * 10\n",
    "    float_NPV_ary = 25*np.array(float_notional).reshape(1,-1) * Treasury_fwd_ary * np.exp(-Treasury_zero_ary[:,1:]*np.arange(0.5,10.1,0.5))\n",
    "    #print(float_NPV_ary.sum())\n",
    "    \n",
    "    \n",
    "    # fix leg payment. suppose swap rate is x.\n",
    "    fix_NPV_ary = 50 * x * np.exp(-Treasury_zero_ary[:,2::2]*np.arange(1,10.1,1))\n",
    "    #print(fix_NPV_ary.sum())\n",
    "    return float_NPV_ary.sum() - fix_NPV_ary.sum() \n"
   ]
  },
  {
   "cell_type": "code",
   "execution_count": 118,
   "metadata": {},
   "outputs": [
    {
     "data": {
      "text/plain": [
       " active_mask: array([0.])\n",
       "        cost: 1.5777218104420236e-30\n",
       "         fun: array([-1.77635684e-15])\n",
       "        grad: array([7.61732952e-13])\n",
       "         jac: array([[-428.8175298]])\n",
       "     message: '`gtol` termination condition is satisfied.'\n",
       "        nfev: 3\n",
       "        njev: 3\n",
       "  optimality: 7.617329519106058e-13\n",
       "      status: 1\n",
       "     success: True\n",
       "           x: array([0.02447479])"
      ]
     },
     "execution_count": 118,
     "metadata": {},
     "output_type": "execute_result"
    }
   ],
   "source": [
    "res_b = least_squares(fun_swap_value_b, 0.05)\n",
    "res_b"
   ]
  },
  {
   "cell_type": "code",
   "execution_count": 119,
   "metadata": {},
   "outputs": [
    {
     "data": {
      "text/plain": [
       " active_mask: array([0.])\n",
       "        cost: 1.5777218104420236e-30\n",
       "         fun: array([-1.77635684e-15])\n",
       "        grad: array([7.61732952e-13])\n",
       "         jac: array([[-428.8175298]])\n",
       "     message: '`gtol` termination condition is satisfied.'\n",
       "        nfev: 3\n",
       "        njev: 3\n",
       "  optimality: 7.617329519106058e-13\n",
       "      status: 1\n",
       "     success: True\n",
       "           x: array([0.02447479])"
      ]
     },
     "execution_count": 119,
     "metadata": {},
     "output_type": "execute_result"
    }
   ],
   "source": [
    "sol_b = least_squares(fun_swap_value_b, 0.05)\n",
    "sol_b"
   ]
  },
  {
   "cell_type": "markdown",
   "metadata": {},
   "source": [
    "## answer to partb-1b: 2.45%"
   ]
  },
  {
   "cell_type": "code",
   "execution_count": 132,
   "metadata": {},
   "outputs": [],
   "source": [
    "# from partb-1a: summer notional is 51.072954 million, swap rate is 5%\n",
    "Treasury_data = pd.read_csv(r'Data\\feds200628_till210319.csv', index_col = 'Date', usecols = ['Date','BETA0','BETA1','BETA2','BETA3','TAU1','TAU2'], skiprows=9)"
   ]
  },
  {
   "cell_type": "code",
   "execution_count": 133,
   "metadata": {},
   "outputs": [
    {
     "data": {
      "text/html": [
       "<div>\n",
       "<style scoped>\n",
       "    .dataframe tbody tr th:only-of-type {\n",
       "        vertical-align: middle;\n",
       "    }\n",
       "\n",
       "    .dataframe tbody tr th {\n",
       "        vertical-align: top;\n",
       "    }\n",
       "\n",
       "    .dataframe thead th {\n",
       "        text-align: right;\n",
       "    }\n",
       "</style>\n",
       "<table border=\"1\" class=\"dataframe\">\n",
       "  <thead>\n",
       "    <tr style=\"text-align: right;\">\n",
       "      <th></th>\n",
       "      <th>BETA0</th>\n",
       "      <th>BETA1</th>\n",
       "      <th>BETA2</th>\n",
       "      <th>BETA3</th>\n",
       "      <th>TAU1</th>\n",
       "      <th>TAU2</th>\n",
       "    </tr>\n",
       "    <tr>\n",
       "      <th>Date</th>\n",
       "      <th></th>\n",
       "      <th></th>\n",
       "      <th></th>\n",
       "      <th></th>\n",
       "      <th></th>\n",
       "      <th></th>\n",
       "    </tr>\n",
       "  </thead>\n",
       "  <tbody>\n",
       "    <tr>\n",
       "      <th>2011-02-04</th>\n",
       "      <td>3.025067</td>\n",
       "      <td>-2.788903</td>\n",
       "      <td>-4.552807</td>\n",
       "      <td>8.443618</td>\n",
       "      <td>1.663451</td>\n",
       "      <td>11.766051</td>\n",
       "    </tr>\n",
       "  </tbody>\n",
       "</table>\n",
       "</div>"
      ],
      "text/plain": [
       "               BETA0     BETA1     BETA2     BETA3      TAU1       TAU2\n",
       "Date                                                                   \n",
       "2011-02-04  3.025067 -2.788903 -4.552807  8.443618  1.663451  11.766051"
      ]
     },
     "execution_count": 133,
     "metadata": {},
     "output_type": "execute_result"
    }
   ],
   "source": [
    "Treasury_data_new = Treasury_data.loc['2011-02-04':'2011-02-05'] # Today is Feb 4, 2011 \n",
    "Treasury_data_new"
   ]
  },
  {
   "cell_type": "code",
   "execution_count": 134,
   "metadata": {},
   "outputs": [
    {
     "data": {
      "text/plain": [
       "[0, 6, 12, 18, 24, 30, 36, 42, 48, 54, 60, 66, 72, 78, 84, 90, 96, 102, 108]"
      ]
     },
     "execution_count": 134,
     "metadata": {},
     "output_type": "execute_result"
    }
   ],
   "source": [
    "tenors_new = [x for x in range(0,109,6)]\n",
    "tenors_new"
   ]
  },
  {
   "cell_type": "code",
   "execution_count": 135,
   "metadata": {},
   "outputs": [],
   "source": [
    "Treasury_zero_new = pd.DataFrame(index = Treasury_data_new.index, columns = tenors_new)\n",
    "for col in Treasury_zero_new.columns:\n",
    "    Treasury_zero_new[col]=Treasury_data_new.apply(lambda x: NSS_zero_cstrct(col/12,x['BETA0'],x['BETA1'],x['BETA2'],x['BETA3'],x['TAU1'],x['TAU2']), axis=1)"
   ]
  },
  {
   "cell_type": "code",
   "execution_count": 136,
   "metadata": {},
   "outputs": [
    {
     "data": {
      "text/plain": [
       "array([[0.00235697, 0.00229273, 0.00341979, 0.00530177, 0.00763059,\n",
       "        0.01019347, 0.0128457 , 0.01549083, 0.01806652, 0.02053422,\n",
       "        0.02287192, 0.02506882, 0.02712171, 0.02903228, 0.03080534,\n",
       "        0.03244752, 0.03396642, 0.03537004, 0.03666637]])"
      ]
     },
     "execution_count": 136,
     "metadata": {},
     "output_type": "execute_result"
    }
   ],
   "source": [
    "Treasury_zero_ary_new = np.array(Treasury_zero_new)\n",
    "Treasury_zero_ary_new /= 100\n",
    "Treasury_zero_ary_new"
   ]
  },
  {
   "cell_type": "code",
   "execution_count": 137,
   "metadata": {},
   "outputs": [
    {
     "data": {
      "text/plain": [
       "(1, 18)"
      ]
     },
     "execution_count": 137,
     "metadata": {},
     "output_type": "execute_result"
    }
   ],
   "source": [
    "Treasury_fwd_ary_new = ((np.array(tenors_new[1:])/12) * Treasury_zero_ary_new[:,1:] - (np.array(tenors_new[:-1])/12) * Treasury_zero_ary_new[:,:-1])/((tenors_new[1]-tenors_new[0])/12)\n",
    "Treasury_fwd_ary_new.shape # starting from 0 month to 114month"
   ]
  },
  {
   "cell_type": "code",
   "execution_count": 138,
   "metadata": {},
   "outputs": [
    {
     "name": "stdout",
     "output_type": "stream",
     "text": [
      "18.584645602723125\n",
      "19.756724615215344\n",
      "-1.172079012492219\n"
     ]
    }
   ],
   "source": [
    "float_notional = [1, 1/3] * 9\n",
    "float_NPV_ary_new = 51.072954*np.array(float_notional).reshape(1,-1) * Treasury_fwd_ary_new * np.exp(-Treasury_zero_ary_new[:,1:]*np.arange(0.5,9.1,0.5))\n",
    "print(float_NPV_ary_new.sum())\n",
    "    \n",
    "fix_NPV_ary_new = 50 * 0.05 * np.exp(-Treasury_zero_ary_new[:,2::2]*np.arange(1,9.1,1))\n",
    "print(fix_NPV_ary_new.sum())\n",
    "print(float_NPV_ary_new.sum() - fix_NPV_ary_new.sum())"
   ]
  },
  {
   "cell_type": "markdown",
   "metadata": {},
   "source": [
    "## answer to partb-1c: -1.172079 million"
   ]
  }
 ],
 "metadata": {
  "kernelspec": {
   "display_name": "Python 3",
   "language": "python",
   "name": "python3"
  },
  "language_info": {
   "codemirror_mode": {
    "name": "ipython",
    "version": 3
   },
   "file_extension": ".py",
   "mimetype": "text/x-python",
   "name": "python",
   "nbconvert_exporter": "python",
   "pygments_lexer": "ipython3",
   "version": "3.6.12"
  }
 },
 "nbformat": 4,
 "nbformat_minor": 2
}
